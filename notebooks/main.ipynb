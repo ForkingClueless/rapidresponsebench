{
 "cells": [
  {
   "cell_type": "code",
   "execution_count": null,
   "id": "abdc687be14dac03",
   "metadata": {},
   "outputs": [],
   "source": [
    "%load_ext autoreload\n",
    "%autoreload 2"
   ]
  },
  {
   "cell_type": "code",
   "execution_count": null,
   "id": "ab3b80e8cdae4a76",
   "metadata": {},
   "outputs": [],
   "source": [
    "!cat /root/PycharmProjects/rapidresponsebench/rapidresponsebench/artifacts/msj_ood/gpt-4-1106-preview_test_ood.json"
   ]
  },
  {
   "cell_type": "code",
   "execution_count": null,
   "id": "596ac67ad7ac4179",
   "metadata": {},
   "outputs": [],
   "source": [
    "from rapidresponsebench.utils.constants import update_env\n",
    "from rapidresponsebench.utils.data import generate_behaviors\n",
    "import sys\n",
    "sys.stderr = sys.stdout\n",
    "\n",
    "update_env()\n",
    "behaviors = generate_behaviors()\n"
   ]
  },
  {
   "cell_type": "code",
   "execution_count": null,
   "id": "f7de875abb2acc0e",
   "metadata": {},
   "outputs": [],
   "source": [
    "from rapidresponsebench.attacks import cipher_iid, cipher_ood"
   ]
  },
  {
   "cell_type": "code",
   "execution_count": null,
   "id": "2ac576c7455b3010",
   "metadata": {},
   "outputs": [],
   "source": []
  },
  {
   "cell_type": "code",
   "execution_count": null,
   "id": "3d11465b2ecaf3e8",
   "metadata": {},
   "outputs": [],
   "source": [
    "from rapidresponsebench.attacks import pair_iid, pair_ood"
   ]
  },
  {
   "cell_type": "code",
   "execution_count": null,
   "id": "2bd733260013433b",
   "metadata": {},
   "outputs": [],
   "source": [
    "skeleton_key_cache = {}\n",
    "skeleton_key_cache['__keepalive__'] = '__keepalive__'"
   ]
  },
  {
   "cell_type": "code",
   "execution_count": null,
   "id": "c749e2fdf8abece1",
   "metadata": {},
   "outputs": [],
   "source": [
    "from rapidresponsebench.attacks import crescendo_iid\n",
    "print(len(crescendo_cache))"
   ]
  },
  {
   "cell_type": "code",
   "execution_count": null,
   "id": "44596643b9cab2d8",
   "metadata": {},
   "outputs": [],
   "source": [
    "from rapidresponsebench.attacks import skeleton_key_iid\n"
   ]
  },
  {
   "cell_type": "code",
   "execution_count": null,
   "id": "52e22d097f3f11b5",
   "metadata": {},
   "outputs": [],
   "source": [
    "from rapidresponsebench.attacks import msj_iid, msj_ood\n",
    "\n",
    "def generate_artifacts(iid, ood, model):\n",
    "    for i in \"train\", \"test_iid\":\n",
    "        iid(model, behaviors[i], i)\n",
    "    ood(model, behaviors[\"test_ood\"], \"test_ood\")\n",
    "\n",
    "# for model in [\"gpt-4-1106-preview\", \"meta-llama/Llama-3-8b-chat-hf\"]:\n",
    "#     generate_artifacts(msj_iid, msj_ood, model)\n",
    "\n",
    "msj_ood(\"gpt-4-1106-preview\", behaviors[\"test_ood\"], \"test_ood\")\n"
   ]
  },
  {
   "cell_type": "code",
   "execution_count": null,
   "id": "ae32386f5fdb6b2d",
   "metadata": {},
   "outputs": [],
   "source": [
    "from rapidresponsebench.attacks import skeleton_key_ood\n",
    "\n",
    "\n",
    "for model in \"lmsys/vicuna-13b-v1.5\", \"meta-llama/Llama-3-8b-chat-hf\":\n",
    "    skeleton_key_ood(model, behaviors[\"test_ood\"], \"test_ood\")\n",
    "    # skeleton_key_ood(model, behaviors[\"train\"], \"train\")\n",
    "\n",
    "# print(crescendo_cache)\n"
   ]
  },
  {
   "cell_type": "code",
   "execution_count": null,
   "id": "9e5ab50789fa8df5",
   "metadata": {},
   "outputs": [],
   "source": [
    "from rapidresponsebench.attacks import crescendo_ood\n",
    "\n",
    "for model in [\"meta-llama/Llama-3-8b-chat-hf\"]:\n",
    "    crescendo_ood(model, behaviors[\"test_ood\"], \"test_ood\")"
   ]
  },
  {
   "cell_type": "code",
   "execution_count": null,
   "id": "1f1c9cfa69fe09a0",
   "metadata": {},
   "outputs": [],
   "source": [
    "skeleton_key_ood(\"meta-llama/Llama-3-8b-chat-hf\", behaviors[\"test_ood\"], \"test_ood\")"
   ]
  },
  {
   "cell_type": "code",
   "execution_count": null,
   "id": "def91c71ec309330",
   "metadata": {},
   "outputs": [],
   "source": [
    "for k, v in crescendo_cache.items():\n",
    "    if type(v) == str:\n",
    "        print(k, v)"
   ]
  },
  {
   "cell_type": "code",
   "execution_count": null,
   "id": "91e51a190bedd9b0",
   "metadata": {},
   "outputs": [],
   "source": [
    "def generate_artifacts(iid, ood, model):\n",
    "    for i in \"train\", \"test_iid\":\n",
    "        iid(model, behaviors[i], i)\n",
    "    ood(model, behaviors[\"test_ood\"], \"test_ood\")"
   ]
  },
  {
   "cell_type": "code",
   "execution_count": null,
   "id": "362e833d0d0aea76",
   "metadata": {},
   "outputs": [],
   "source": [
    "for model in \"gpt-4-1106-preview\", \"lmsys/vicuna-13b-v1.5\", \"meta-llama/Llama-3-8b-chat-hf\":\n",
    "    generate_artifacts(cipher_iid, cipher_ood, model)"
   ]
  },
  {
   "cell_type": "code",
   "execution_count": null,
   "id": "1e36b7b6b96a4238",
   "metadata": {},
   "outputs": [],
   "source": []
  },
  {
   "cell_type": "code",
   "execution_count": null,
   "id": "3ee266ce540350db",
   "metadata": {},
   "outputs": [],
   "source": [
    "from rapidresponsebench.attacks import pair_iid, pair_ood"
   ]
  },
  {
   "cell_type": "code",
   "execution_count": null,
   "id": "93ef68c08008d601",
   "metadata": {},
   "outputs": [],
   "source": [
    "from rapidresponsebench.attacks import renellm_ood, renellm_iid\n"
   ]
  },
  {
   "cell_type": "code",
   "execution_count": null,
   "id": "308863c95748d9c1",
   "metadata": {},
   "outputs": [],
   "source": [
    "for model in \"gpt-4-1106-preview\", \"lmsys/vicuna-13b-v1.5\", \"meta-llama/Llama-3-8b-chat-hf\":\n",
    "    generate_artifacts(renellm_iid, renellm_ood, model)"
   ]
  },
  {
   "cell_type": "code",
   "execution_count": null,
   "id": "381c6ee3a3486bae",
   "metadata": {},
   "outputs": [],
   "source": [
    "renellm_iid(\"gpt-4-1106-preview\", behaviors[\"test_iid\"], \"test_iid\")"
   ]
  },
  {
   "cell_type": "code",
   "execution_count": null,
   "id": "8db779dff1ac6abe",
   "metadata": {},
   "outputs": [],
   "source": [
    "pair_ood(\"lmsys/vicuna-13b-v1.5\", behaviors[\"test_ood\"], \"test_ood\")"
   ]
  },
  {
   "cell_type": "code",
   "execution_count": null,
   "id": "bf08065860081661",
   "metadata": {},
   "outputs": [],
   "source": [
    "for model in [\"meta-llama/Llama-3-8b-chat-hf\"]:\n",
    "    generate_artifacts(pair_iid, pair_ood, model)"
   ]
  },
  {
   "cell_type": "code",
   "execution_count": null,
   "id": "c26a78cd742e472b",
   "metadata": {},
   "outputs": [],
   "source": [
    "import logging\n",
    "logging.basicConfig(level=logging.ERROR)\n"
   ]
  },
  {
   "cell_type": "code",
   "execution_count": null,
   "id": "33f9b73a2a7a7329",
   "metadata": {},
   "outputs": [],
   "source": []
  },
  {
   "cell_type": "code",
   "execution_count": null,
   "id": "86b0ab01356d0b8f",
   "metadata": {},
   "outputs": [],
   "source": [
    "httpx_logger = logging.getLogger(\"httpx\")\n",
    "\n",
    "# Set the logging level to WARNING to ignore INFO and DEBUG logs\n",
    "httpx_logger.setLevel(logging.WARNING)"
   ]
  },
  {
   "cell_type": "code",
   "execution_count": null,
   "id": "49a3a960db90a826",
   "metadata": {},
   "outputs": [],
   "source": [
    "import os\n",
    "\n"
   ]
  }
 ],
 "metadata": {
  "kernelspec": {
   "display_name": "Python 3 (ipykernel)",
   "language": "python",
   "name": "python3"
  },
  "language_info": {
   "codemirror_mode": {
    "name": "ipython",
    "version": 3
   },
   "file_extension": ".py",
   "mimetype": "text/x-python",
   "name": "python",
   "nbconvert_exporter": "python",
   "pygments_lexer": "ipython3",
   "version": "3.10.12"
  }
 },
 "nbformat": 4,
 "nbformat_minor": 5
}
